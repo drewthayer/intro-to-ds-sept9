{
 "cells": [
  {
   "cell_type": "markdown",
   "metadata": {},
   "source": [
    "# Introductory Notes\n",
    "\n",
    "Throughout this entire notebook you should be experimenting with the code in the non-text cells. A great way to begin to get a feel for Python is by playing with it. So, have some fun by changing the values in the cells and then running them again with Shift-Enter.\n",
    "\n",
    "At the end of each section there will be some questions to help further your understanding. Remember, in Python we can always manually test things by trying them out; however, you should try to think about the answers to these questions before you run some code. This way you can check and verify your understanding of the section's topic.\n",
    "\n",
    "### Dictionaries\n",
    "\n",
    "So far, the only collections that we have talked about are ordered.  These are great as containers if there is some intrinsic order to the data that we're storing. However, there are plenty of times when we don't care about order, either because it simply doesn't matter or because the data are associated with each other in a different way. For example, say we have a bunch of state names and we want to associate each state's name with its capital. How would we do this in a list? One way would be to have tuples that store pairs of states and their capitals."
   ]
  },
  {
   "cell_type": "code",
   "execution_count": 1,
   "metadata": {},
   "outputs": [
    {
     "data": {
      "text/plain": [
       "[('Georgia', 'Atlanta'), ('Colorado', 'Denver'), ('Indiana', 'Indianapolis')]"
      ]
     },
     "execution_count": 1,
     "metadata": {},
     "output_type": "execute_result"
    }
   ],
   "source": [
    "states_caps = [('Georgia', 'Atlanta'), ('Colorado', 'Denver'), ('Indiana', 'Indianapolis')]\n",
    "states_caps"
   ]
  },
  {
   "cell_type": "markdown",
   "metadata": {},
   "source": [
    "There are limits to how intuitive this storage method is, though. Consider that if we wanted to find the capital of Indiana, we would have to search through the entire list, checking to see if Indiana is in the first position of each tuple. If/when we found it, we would then have to grab the second position of that tuple."
   ]
  },
  {
   "cell_type": "code",
   "execution_count": 2,
   "metadata": {},
   "outputs": [
    {
     "data": {
      "text/plain": [
       "'Indianapolis'"
      ]
     },
     "execution_count": 2,
     "metadata": {},
     "output_type": "execute_result"
    }
   ],
   "source": [
    "search_state = 'Indiana'\n",
    "capital = 'State not found'\n",
    "for state_cap in states_caps:\n",
    "    if state_cap[0] == search_state:\n",
    "        capital = state_cap[1]\n",
    "        break\n",
    "capital"
   ]
  },
  {
   "cell_type": "markdown",
   "metadata": {},
   "source": [
    "While this isn't horrible, we can do better. Python to the rescue!!!\n",
    "\n",
    "The dictionary data structure in Python allows us to store data in a way that is more intuitive for this problem. Dictionaries allow us to store a value associated with a keyword. In the example above, we want to store the capital as the value, and the state as the keyword that the capital is associated with. There are many ways to instantiate a dictionary. Let's look at the simplest way first."
   ]
  },
  {
   "cell_type": "code",
   "execution_count": 3,
   "metadata": {},
   "outputs": [
    {
     "data": {
      "text/plain": [
       "{'Colorado': 'Denver', 'Georgia': 'Atlanta', 'Indiana': 'Indianapolis'}"
      ]
     },
     "execution_count": 3,
     "metadata": {},
     "output_type": "execute_result"
    }
   ],
   "source": [
    "states_caps_dict = {'Georgia': 'Atlanta', 'Colorado': 'Denver', 'Indiana': 'Indianapolis'}\n",
    "states_caps_dict"
   ]
  },
  {
   "cell_type": "markdown",
   "metadata": {},
   "source": [
    "This looks very similar to the way that we made lists and tuples, except now we use curly braces, and there is this new use of colons (`:`). On the left side of each colon we have the keyword, and on the right the value associated with it. Each *key-value* pair, as we call them, is separated by a comma.\n",
    "\n",
    "How do we use dictionaries once we have them? Let's take the example from above and say we're trying to find the capital of Indiana. With a list of tuples, we had to search through the list of tuples from the beginning to find the one with 'Indiana' in the first position, and then grab the second entry in that tuple. With dictionaries it's much easier!"
   ]
  },
  {
   "cell_type": "code",
   "execution_count": 4,
   "metadata": {},
   "outputs": [
    {
     "data": {
      "text/plain": [
       "'Indianapolis'"
      ]
     },
     "execution_count": 4,
     "metadata": {},
     "output_type": "execute_result"
    }
   ],
   "source": [
    "states_caps_dict['Indiana']"
   ]
  },
  {
   "cell_type": "code",
   "execution_count": 5,
   "metadata": {},
   "outputs": [
    {
     "ename": "KeyError",
     "evalue": "'Washington'",
     "output_type": "error",
     "traceback": [
      "\u001b[0;31m---------------------------------------------------------------------------\u001b[0m",
      "\u001b[0;31mKeyError\u001b[0m                                  Traceback (most recent call last)",
      "\u001b[0;32m<ipython-input-5-96fac88f6748>\u001b[0m in \u001b[0;36m<module>\u001b[0;34m()\u001b[0m\n\u001b[0;32m----> 1\u001b[0;31m \u001b[0mstates_caps_dict\u001b[0m\u001b[0;34m[\u001b[0m\u001b[0;34m'Washington'\u001b[0m\u001b[0;34m]\u001b[0m\u001b[0;34m\u001b[0m\u001b[0m\n\u001b[0m",
      "\u001b[0;31mKeyError\u001b[0m: 'Washington'"
     ]
    }
   ],
   "source": [
    "states_caps_dict['Washington']"
   ]
  },
  {
   "cell_type": "markdown",
   "metadata": {},
   "source": [
    "All we had to do was index into the dictionary, like we did with lists, but this time with the key. The dictionary then returns the associated value. Notice that if we tried to find a key that wasn't already in the dictionary with `[]` indexing, we get a `KeyError` telling us that that key is not stored in the dictionary.\n",
    "\n",
    "This shouldn't happen too frequently, because we often know the keys in our dictionaries. For times where we don't know if the key is already in the dictionary, we luckily have the `get()` method. This method takes the key you're trying to find and a default return value to hand back if the key doesn't exist."
   ]
  },
  {
   "cell_type": "code",
   "execution_count": 6,
   "metadata": {},
   "outputs": [
    {
     "data": {
      "text/plain": [
       "'State not found'"
      ]
     },
     "execution_count": 6,
     "metadata": {},
     "output_type": "execute_result"
    }
   ],
   "source": [
    "states_caps_dict.get('Washington', 'State not found')"
   ]
  },
  {
   "cell_type": "markdown",
   "metadata": {},
   "source": [
    "Above, we asked `states_caps_dict` for the value associated with the key `'Washington'`, and told it to return `'State not found'` if the keyword wasn't in the dictionary. And lo-and-behold, we get back `'State not found'`. This makese sense because we know that `'Washington'` is not in the dictionary.\n",
    "\n",
    "**Intro Dictionary Questions**\n",
    "\n",
    "1. Make a dictionary called `resturant_types` that has the following associated `key-value` pairs: `('Red Lobster', 'Seafood')`, `('Burger King', 'Fast Food')`, `('Safeway', 'Grocery Store')`.\n",
    "\n",
    "2. How do you find the resturant type for `'Burger King'`?\n",
    "3. What if you don't know whether or not `'Outback Steakhouse'` is in the `resturant_types` dictionary - how would you go about trying to get it's resturant type and make sure that you won't get an error?\n",
    "\n",
    "### Mutability of Dictionaries\n",
    "\n",
    "Are dictionaries mutable? That's a great question, and yes they are! Before we talk about how to mutate them, let's describe dictionaries in the language that we used for lists and tuples. A dictionary is defined as an unordered collection of key-value pairs, where each key is required to be **unique**.\n",
    "\n",
    "With that in mind, let's recall how we mutated a **list**. To change an element at an existing index, we just indexed into the list and did assignment. To make them larger, we used the `append()` method. This method of mutation made a lot of sense, considering that lists are ordered. In the unordered paradigm where dictionaries live, to change/add a key-value pair, all you have to do is index into it with the existing/new key and assign a value to it. Notice that assignment works just as before, with the `=`. Let's take a look."
   ]
  },
  {
   "cell_type": "code",
   "execution_count": 7,
   "metadata": {},
   "outputs": [
    {
     "data": {
      "text/plain": [
       "1"
      ]
     },
     "execution_count": 7,
     "metadata": {},
     "output_type": "execute_result"
    }
   ],
   "source": [
    "my_dict = {'thing': 1, 'other': 2}\n",
    "my_dict['thing']"
   ]
  },
  {
   "cell_type": "code",
   "execution_count": 8,
   "metadata": {},
   "outputs": [
    {
     "data": {
      "text/plain": [
       "{'other': 2, 'thing': 3}"
      ]
     },
     "execution_count": 8,
     "metadata": {},
     "output_type": "execute_result"
    }
   ],
   "source": [
    "my_dict['thing'] = 3\n",
    "my_dict"
   ]
  },
  {
   "cell_type": "code",
   "execution_count": 9,
   "metadata": {},
   "outputs": [
    {
     "data": {
      "text/plain": [
       "{'other': 2, 'thing': 3, 'thingy': 4}"
      ]
     },
     "execution_count": 9,
     "metadata": {},
     "output_type": "execute_result"
    }
   ],
   "source": [
    "my_dict['thingy'] = 4\n",
    "my_dict"
   ]
  },
  {
   "cell_type": "markdown",
   "metadata": {},
   "source": [
    "#### Caveat to Dictionary Keys, More on Mutability\n",
    "\n",
    "We have learned that dictionaries make it easy to store key-value relationships in a single data structure. We have also learned that dictionaries are designed for easy value retrieval (thing about the capital retrieval with a list versus a dictionary). What are the restrictions on things you can put in a dictionary? As for the values, like in lists, there are none! But in terms of the keys those values are associated with, that's a different story.\n",
    "\n",
    "Keys in dictionaries **must** be an immutable type, and if that type is a container, then the container cannot contain any mutable types. Why is this the case? The answer lies in the way that dictionaries store values and associate them with a key.\n",
    "\n",
    "Python dictionaries are an implementation of what's known as a *hash map* or *hash table* ([here's](https://en.wikipedia.org/wiki/Hash_table) the wikipedia page for them if you want to learn more). This computer science idea is basically a function that relates any input, in our case the keys, to a location in memory. Thus, retrieval of a value from a dictionary is entirely dependent on the key. The consequence of this is that, if we were to use a mutable type as the key for a dictionary and later change what that key looked like by mutating it, the dictionary wouldn't be able to find the value it was supposed to associate with that key (since the key has now changed). Let's take a gander at what this type of incorrect usage would look like, but know that the code below will **not** run.\n",
    "\n",
    "```python\n",
    "# Original key\n",
    "my_bad_key = ['key']\n",
    "\n",
    "# Dictionary declared with a list as a key (won't work)\n",
    "my_dict = {my_bad_key: 'This wont work'}\n",
    "\n",
    "# Let's append to our mutable 'key'\n",
    "my_bad_key.append('other_key')\n",
    "\n",
    "# How is the dictionary supposed to know what we're looking for???\n",
    "my_dict[my_bad_key]\n",
    "```"
   ]
  },
  {
   "cell_type": "code",
   "execution_count": 10,
   "metadata": {},
   "outputs": [
    {
     "ename": "TypeError",
     "evalue": "unhashable type: 'list'",
     "output_type": "error",
     "traceback": [
      "\u001b[0;31m---------------------------------------------------------------------------\u001b[0m",
      "\u001b[0;31mTypeError\u001b[0m                                 Traceback (most recent call last)",
      "\u001b[0;32m<ipython-input-10-777f86329da7>\u001b[0m in \u001b[0;36m<module>\u001b[0;34m()\u001b[0m\n\u001b[1;32m      1\u001b[0m \u001b[0mmy_bad_key\u001b[0m \u001b[0;34m=\u001b[0m \u001b[0;34m[\u001b[0m\u001b[0;34m'key'\u001b[0m\u001b[0;34m]\u001b[0m\u001b[0;34m\u001b[0m\u001b[0m\n\u001b[0;32m----> 2\u001b[0;31m \u001b[0mmy_dict\u001b[0m \u001b[0;34m=\u001b[0m \u001b[0;34m{\u001b[0m\u001b[0mmy_bad_key\u001b[0m\u001b[0;34m:\u001b[0m \u001b[0;34m'This wont work'\u001b[0m\u001b[0;34m}\u001b[0m\u001b[0;34m\u001b[0m\u001b[0m\n\u001b[0m",
      "\u001b[0;31mTypeError\u001b[0m: unhashable type: 'list'"
     ]
    }
   ],
   "source": [
    "my_bad_key = ['key']\n",
    "my_dict = {my_bad_key: 'This wont work'}"
   ]
  },
  {
   "cell_type": "markdown",
   "metadata": {},
   "source": [
    "The above code attempts to set a list as a key to a dictionary. Luckily, it throws an error as soon as we try, telling us that it can't hash a list (read: list's aren't immutable).\n",
    "\n",
    "**Mutating Dictionaries Questions**\n",
    "\n",
    "1. Using the same resturant type dictionary from the last question set, add to it the key-value pair, `('Outback Steakhouse', 'Delicious!')`.\n",
    "2. What if we want to change the resturant type of `'Safeway'` to just `'Grocery'` - how would you make that change?\n",
    "3. Considering that we quite like `Outback Steakhouse`, it's reasonable to assume that we don't particularly like `'Burger King'`. Remove the `'Burger King'` entry from the dictionary. There are a couple of ways you can figure out how to do this:\n",
    "    1. Try tab completing on the dictionary and see if there are any methods that look like they could help.\n",
    "    2. Look at the docs for Python dictionaries.\n",
    "    3. Google it.\n",
    "\n",
    "#### Getting More Out of Dictionaries\n",
    "\n",
    "We now know how to make and alter dictionaries, and how to use them to store arbitrary key-value pairs; let's talk about how to use them with loops.\n",
    "\n",
    "As with lists and tuples, dictionaries are iterables in Python. This means that Python knows how to traverse everything that's stored in the collection. The way we did this with list was with a `for` loop. We will again use the `for` loop with dictionaries. There are a few changes in how it's implemented, since dictionaries are unordered, key-value pairs, whereas lists are ordered collections of values. \n",
    "\n",
    "Let's revisit how we traverse a list with a `for` loop. Consider the following code that only prints the even numbers between 0 and 9."
   ]
  },
  {
   "cell_type": "code",
   "execution_count": 11,
   "metadata": {},
   "outputs": [
    {
     "name": "stdout",
     "output_type": "stream",
     "text": [
      "0\n",
      "2\n",
      "4\n",
      "6\n",
      "8\n"
     ]
    }
   ],
   "source": [
    "for element in range(10):\n",
    "    if element % 2 == 0:\n",
    "        print(element)"
   ]
  },
  {
   "cell_type": "markdown",
   "metadata": {},
   "source": [
    "In each iteration of the `for` loop, we grab a number from the list, give it the name `element`, check if it's even, and then print that value if it is. It's the one at a time part that I want to call you're attention to. Lists are an ordered collection of values; dictionaries, on the other hand, have keys and values that are tied together. However, if we were to traverse a dictionary with a for loop, we would expect to only get one of these out. Naturally, it's the keys."
   ]
  },
  {
   "cell_type": "code",
   "execution_count": 12,
   "metadata": {},
   "outputs": [
    {
     "name": "stdout",
     "output_type": "stream",
     "text": [
      "Indiana\n",
      "Georgia\n",
      "Colorado\n"
     ]
    }
   ],
   "source": [
    "for thing in states_caps_dict:\n",
    "    print(thing)"
   ]
  },
  {
   "cell_type": "markdown",
   "metadata": {},
   "source": [
    "Notice when we access the keys, they are not printed in order. Remember that dictionaries are unordered. Here we see a direct ramification of that fact; we are not guaranteed any particular order when accessing a dictionary's keys. It's not necessarily a problem, just a random fact we keep in our pocket for a rainy day.\n",
    "\n",
    "The natural question that follows is whether we can loop through all of the values? This can be done with the aptly named `values()` method on dictionaries."
   ]
  },
  {
   "cell_type": "code",
   "execution_count": 13,
   "metadata": {},
   "outputs": [
    {
     "name": "stdout",
     "output_type": "stream",
     "text": [
      "Indianapolis\n",
      "Atlanta\n",
      "Denver\n"
     ]
    }
   ],
   "source": [
    "for value in states_caps_dict.values():\n",
    "    print(value)"
   ]
  },
  {
   "cell_type": "markdown",
   "metadata": {},
   "source": [
    "We can see that all of the capitals (the values in the dictionary) are printed, again in no particular order. One thing to know is that there is an analogue to `values()` for keys, `keys()`.\n",
    "\n",
    "This is a very useful feature, but it gets even better! One of the most useful ways to loop through the contents of a dictionary is by getting each key-value pair together within the loop. The `items()` method does exactly this. To use it, we will employ a similar syntax to what we used with `enumerate()`."
   ]
  },
  {
   "cell_type": "code",
   "execution_count": 14,
   "metadata": {},
   "outputs": [
    {
     "name": "stdout",
     "output_type": "stream",
     "text": [
      "Indiana Indianapolis\n",
      "Georgia Atlanta\n",
      "Colorado Denver\n"
     ]
    }
   ],
   "source": [
    "for state, capital in states_caps_dict.items():\n",
    "     print(state, capital)"
   ]
  },
  {
   "cell_type": "markdown",
   "metadata": {},
   "source": [
    "This is awesome! As a brief learning tangent, let's discuss what's happening when we use this syntax. As above, we are going to use the `items()` method, but this time not store the output in both a `state` *and* `capital` variable."
   ]
  },
  {
   "cell_type": "code",
   "execution_count": 15,
   "metadata": {},
   "outputs": [
    {
     "name": "stdout",
     "output_type": "stream",
     "text": [
      "('Indiana', 'Indianapolis')\n",
      "('Georgia', 'Atlanta')\n",
      "('Colorado', 'Denver')\n"
     ]
    }
   ],
   "source": [
    "for thing in states_caps_dict.items():\n",
    "     print(thing)"
   ]
  },
  {
   "cell_type": "markdown",
   "metadata": {},
   "source": [
    "Now that we're only using a single variable to grab the output of `items()`, we can clearly see that the method is outputting a tuple. What was happening when we used `state` and `capital` to grab the output? Very frequently, we want to put the separate values from ordered collections into different variables. This happens so frequently, in fact, that Python has a built-in way to do it quickly (called **unpacking**).\n",
    "\n",
    "When Python sees the two variable names `state` and `capital` in the first implementation, it knows to take the values in the tuple returned from `items()` and put the first one in `state` and the second in `capital`. This is what was happening when we called `enumerate` on a list - it returned a tuple with the index it was on, as well as the value itself. It is up to you whether or not to grab those values in a single variable as a tuple or have Python unpack it for you into two variables.\n",
    "\n",
    "**Note**: Python will not allow you to \"unpack\" a collection containing a single item into multiple variables.\n",
    "\n",
    "**Looping Dictionary Questions**\n",
    "\n",
    "1. Write a for loop that prints all the keys in the resturant types dictionary.\n",
    "2. Write a for loop that goes through all of the keys in the resturant types dictionary and only prints the names of resturants that are longer than 10 characters.\n",
    "3. Write a for loop that prints the all the resturants that are of type `'Seafood'`."
   ]
  },
  {
   "cell_type": "code",
   "execution_count": null,
   "metadata": {
    "collapsed": true
   },
   "outputs": [],
   "source": []
  }
 ],
 "metadata": {
  "kernelspec": {
   "display_name": "Python 3",
   "language": "python",
   "name": "python3"
  },
  "language_info": {
   "codemirror_mode": {
    "name": "ipython",
    "version": 3
   },
   "file_extension": ".py",
   "mimetype": "text/x-python",
   "name": "python",
   "nbconvert_exporter": "python",
   "pygments_lexer": "ipython3",
   "version": "3.7.3"
  }
 },
 "nbformat": 4,
 "nbformat_minor": 1
}
