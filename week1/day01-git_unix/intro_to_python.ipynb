{
 "cells": [
  {
   "cell_type": "markdown",
   "metadata": {},
   "source": [
    "## Introduction \n",
    "\n",
    "**To open this notebook so you can run this code, navigate to this file's directory at the comandline and then type `jupyter notebook`**\n",
    "\n",
    "This notebook here is meant to get you oriented with one of the tools that we will be using for our pre-class material. The notes and exercises will be built into IPython notebooks (like this one). Before coming to each class, you should work through the materials in the pre-class folder and play around/follow along with the code in those notebooks. You should run the code provided, and additionally modify it to learn what happens when you change certain/different pieces. \n",
    "\n",
    "Effectively learning to program means having your hands-on the keyboard often. It means playing with code, breaking code, reading errors, and reading google. It means banging your head against the keyboard, but getting to revel in that time spent banging your head when you're program finally works. To that end, this notebook here will hopefully give you a taste of that. \n",
    "\n",
    "You might not know exactly what all the lines of code in this notebook do. But, don't worry, because you will know all about these ideas in a week. For now, it's going to be good to get used to your environment and reading and writing some simple Python code. Besides, there's a good chance you'll know what's going on in most of these exercises.\n",
    "\n",
    "You'll start off by type some working code, and playing around with it. Then, we'll walk you through an example of working with some broken code (don't worry, it won't be too bad). Finally, you'll finish up by learning how to move the working code into a `script`, and you'll run you're very first Python program!\n",
    "\n",
    "For all of the exercises below, we've included the exact number of cells for you to complete the assignment in. However, if you want more to experiment with, at any time you can click the **+** button in the upper-left hand corner of the notebook, and a new cell will be created below the one that is currently selected. If you would like to delete a cell you've created for experimentation, simply select the cell and click the **edit** tab at the top of the notebook. Then, select \"Delete Cells\".\n",
    "\n",
    "### Part 1 - Working with `Working` Code\n",
    "\n",
    "For the first part, type in the following code. **Type** it one line at a time into a cell, and then run that cell (click the button at the top to do this, or try `Shift + Enter`). Don't copy and paste it, but instead type it - fingers on the keyboard style. Building up your programming chops will come through muscle memory, and tonight will get you started with that. You will be writing your own programs soon enough! \n",
    "\n",
    "**Type** this code out and run it one line at at time: \n",
    "\n",
    "```\n",
    "my_first_var = 'Wohoo!'\n",
    "print(my_first_var)\n",
    "\n",
    "my_second_var = \"I'm typing code.\"\n",
    "print(my_second_var)\n",
    "\n",
    "my_third_var = \"Even though this doesn't feel like code, I've been told it is code.\"\n",
    "print(my_third_var) \n",
    "\n",
    "my_combined_var = my_first_var + ' ' + my_second_var + ' ' + my_third_var \n",
    "print(my_combined_var)\n",
    "```\n",
    "\n",
    "We've included a cell below for each one of the lines above. "
   ]
  },
  {
   "cell_type": "code",
   "execution_count": null,
   "metadata": {},
   "outputs": [],
   "source": []
  },
  {
   "cell_type": "code",
   "execution_count": null,
   "metadata": {},
   "outputs": [],
   "source": []
  },
  {
   "cell_type": "code",
   "execution_count": null,
   "metadata": {},
   "outputs": [],
   "source": []
  },
  {
   "cell_type": "code",
   "execution_count": null,
   "metadata": {},
   "outputs": [],
   "source": []
  },
  {
   "cell_type": "code",
   "execution_count": null,
   "metadata": {
    "collapsed": true
   },
   "outputs": [],
   "source": []
  },
  {
   "cell_type": "code",
   "execution_count": null,
   "metadata": {
    "collapsed": true
   },
   "outputs": [],
   "source": []
  },
  {
   "cell_type": "code",
   "execution_count": null,
   "metadata": {
    "collapsed": true
   },
   "outputs": [],
   "source": []
  },
  {
   "cell_type": "code",
   "execution_count": null,
   "metadata": {
    "collapsed": true
   },
   "outputs": [],
   "source": []
  },
  {
   "cell_type": "markdown",
   "metadata": {},
   "source": [
    "Above, we just worked with text. Let's try working with some numbers now. \n",
    "\n",
    "**Type** this code out line by line:\n",
    "\n",
    "```\n",
    "my_first_num = 3\n",
    "print(my_first_num)\n",
    "\n",
    "my_second_num = 13\n",
    "print(my_second_num)\n",
    "\n",
    "quotient = my_second_num // my_first_num\n",
    "remainder = my_second_num % my_first_num\n",
    "\n",
    "print(quotient, remainder)\n",
    "```\n",
    "\n",
    "We've included a cell below for each one of the lines above. "
   ]
  },
  {
   "cell_type": "code",
   "execution_count": null,
   "metadata": {},
   "outputs": [],
   "source": []
  },
  {
   "cell_type": "code",
   "execution_count": null,
   "metadata": {},
   "outputs": [],
   "source": []
  },
  {
   "cell_type": "code",
   "execution_count": null,
   "metadata": {
    "collapsed": true
   },
   "outputs": [],
   "source": []
  },
  {
   "cell_type": "code",
   "execution_count": null,
   "metadata": {},
   "outputs": [],
   "source": []
  },
  {
   "cell_type": "code",
   "execution_count": null,
   "metadata": {
    "collapsed": true
   },
   "outputs": [],
   "source": []
  },
  {
   "cell_type": "code",
   "execution_count": null,
   "metadata": {
    "collapsed": true
   },
   "outputs": [],
   "source": []
  },
  {
   "cell_type": "code",
   "execution_count": null,
   "metadata": {
    "collapsed": true
   },
   "outputs": [],
   "source": []
  },
  {
   "cell_type": "markdown",
   "metadata": {},
   "source": [
    "### Part 2 - Working with Error Messages\n",
    "\n",
    "Now, let's work with some code **that will break** (sorry). This can and will happen **all the time** when writing code. Half the battle of being a good programmer is learning how to read through error messages and fix your code. Google will be your best friend through this. If you ask any software engineer or programmer you may know, she/he will be likely to tell you the same. \n",
    "\n",
    "**Type** out the code below, again line by line. When you encounter the error, we'll walk you through it. \n",
    "\n",
    "```\n",
    "my_str_var = 'Hello. My favorite number is '\n",
    "print(my_str_var)\n",
    "\n",
    "my_fav_num = 3\n",
    "print(my_fav_num)\n",
    "\n",
    "full_str = my_str_var + my_fav_num \n",
    "print(full_str)\n",
    "```\n",
    "\n",
    "There is a cell below for each one of the lines above. "
   ]
  },
  {
   "cell_type": "code",
   "execution_count": null,
   "metadata": {},
   "outputs": [],
   "source": []
  },
  {
   "cell_type": "code",
   "execution_count": null,
   "metadata": {},
   "outputs": [],
   "source": []
  },
  {
   "cell_type": "code",
   "execution_count": null,
   "metadata": {},
   "outputs": [],
   "source": []
  },
  {
   "cell_type": "code",
   "execution_count": null,
   "metadata": {
    "collapsed": true
   },
   "outputs": [],
   "source": []
  },
  {
   "cell_type": "code",
   "execution_count": null,
   "metadata": {
    "collapsed": true
   },
   "outputs": [],
   "source": []
  },
  {
   "cell_type": "code",
   "execution_count": null,
   "metadata": {},
   "outputs": [],
   "source": []
  },
  {
   "cell_type": "markdown",
   "metadata": {},
   "source": [
    "By now, you'll have encountered the following error: \n",
    "\n",
    "```\n",
    "TypeError: cannot concatenate 'str' and 'int' objects\n",
    "```\n",
    "\n",
    "We've said Google will be your best friend. Let's put that to the test. Take that error (the entire thing) and paste it into Google. The first link should be [this page](http://stackoverflow.com/questions/11844072/python-typeerror-cannot-concatenate-str-and-int-objects), a stackoverflow post explaining what this error means and how to fix it. Reading through the first five posts there, we see that we can fix it if we simply throw a `str` around the variable `my_fav_num` above. This means the line \n",
    "\n",
    "`full_str = my_str_var + my_fav_num` \n",
    "\n",
    "will become: \n",
    "\n",
    "`full_str = my_str_var + str(my_fav_num)`. \n",
    "\n",
    "Make this change above, and then re-run all your code."
   ]
  },
  {
   "cell_type": "code",
   "execution_count": null,
   "metadata": {
    "collapsed": true
   },
   "outputs": [],
   "source": []
  },
  {
   "cell_type": "markdown",
   "metadata": {},
   "source": [
    "Notice, too, that you could put that line in the cell below and it would still work. This is because the notebook's state is the same no matter what cell you're in. This is true throughout the life of a notebook session. So you could actually insert a cell at the top of the notebook and run the same line! **However**, this is a very dangerous thing to do! If you inserted that line in a cell at the top of the notebook, and then came back to it later after it was shutdown, it would not run. This is because the variables `my_str_var` and `my_fav_num` wouldn't have been defined yet. You can try this if you want. Insert the that line at the top of the notebook, then click the **Kernel** tab at the top of the notebook and select \"Restart\". This put's the notebook in a state as though you just opened it. Try running that top line now. It won't work. But, if you run the cells that define `my_str_var` and `my_fav_num` it will!"
   ]
  },
  {
   "cell_type": "markdown",
   "metadata": {},
   "source": [
    "### Part 3 - Moving to a Script\n",
    "\n",
    "Now that you have some functioning code here in a notebook, it's time for you to turn it into a Python script!\n",
    "\n",
    "**Aside**: Python is known as a scripting language, which means that you technically write scripts, not programs. This distinction is normally not important, and as a result you will frequently hear people say they wrote a Python program (and that's accepted language).\n",
    "\n",
    "Python scripts live in `.py` files. So, what you're going to need to do is re-write all of the code from the exercise above in a file. This will be done in your text editor (Atom if you followed the advice from the introduction).\n",
    "\n",
    "Start a new file and name it `my_first_program.py`. Inside of the file, re-**type** all of the lines of code from the working version of the example from above. Once you're done, save it in today's folder.\n",
    "\n",
    "Now you have a python script you can run! This can be done in one of two ways. The first is by navigating to the directory that contains `my_first_program.py` and then typing `python my_first_program.py` at the command line. You should see the statements that were printed above appear in the console.\n",
    "\n",
    "The other way to run a python script is from IPython. To do this from the directory that contains `my_first_program.py`, type `ipython`. This will start the IPython console, which allows you to interact with Python code in much the same way as we have done in this notebook. Now, to run your script. Simply type `run my_first_program.py` into IPython and watch the same output appear on the screen!"
   ]
  },
  {
   "cell_type": "code",
   "execution_count": null,
   "metadata": {
    "collapsed": true
   },
   "outputs": [],
   "source": []
  }
 ],
 "metadata": {
  "kernelspec": {
   "display_name": "Python 3",
   "language": "python",
   "name": "python3"
  },
  "language_info": {
   "codemirror_mode": {
    "name": "ipython",
    "version": 3
   },
   "file_extension": ".py",
   "mimetype": "text/x-python",
   "name": "python",
   "nbconvert_exporter": "python",
   "pygments_lexer": "ipython3",
   "version": "3.7.3"
  }
 },
 "nbformat": 4,
 "nbformat_minor": 1
}
