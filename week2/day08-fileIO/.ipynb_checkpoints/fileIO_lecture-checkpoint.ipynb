{
 "cells": [
  {
   "cell_type": "markdown",
   "metadata": {},
   "source": [
    "# FileIO, csv's and Pandas first look\n",
    "\n",
    "<br><br>\n",
    "#### Use `file.readlines()` and `file.write()`\n",
    "\n",
    "\n"
   ]
  },
  {
   "cell_type": "markdown",
   "metadata": {},
   "source": [
    "* Write to a text file using `with open('demo.txt', 'w') as f: ...`\n"
   ]
  },
  {
   "cell_type": "code",
   "execution_count": 1,
   "metadata": {},
   "outputs": [
    {
     "name": "stdout",
     "output_type": "stream",
     "text": [
      "done writing to file\n",
      "\n"
     ]
    }
   ],
   "source": [
    "lines = ['I am a line', 'So am I', 'I am not a line, oh wait, yeah i am']\n",
    "\n",
    "with open('data/demo.txt', mode='w') as f:\n",
    "    #do stuff\n",
    "    f.write(str(lines[0]) + '\\n')\n",
    "\n",
    "    for line in lines[1:]:\n",
    "        f.write(str(line)+ '\\n')\n",
    "\n",
    "print('done writing to file' + '\\n')"
   ]
  },
  {
   "cell_type": "markdown",
   "metadata": {},
   "source": [
    "* Read from a text file using `with open('demo.txt', 'r') as f: ...`\n",
    "\t* Using `with open` means we don't need to `.close()` the file\n",
    "\t\t* can verify with `f.closed #--> True`\n",
    "\t* Understand the `open` tags:\n",
    "\t\t* `'r'` : read only\n",
    "\t\t* `'w'` : write only, overwrites the file\n",
    "\t\t* `'a'` : read, and append to the end"
   ]
  },
  {
   "cell_type": "code",
   "execution_count": 2,
   "metadata": {},
   "outputs": [
    {
     "name": "stdout",
     "output_type": "stream",
     "text": [
      "['I am a line', 'So am I', 'I am not a line, oh wait, yeah i am']\n"
     ]
    }
   ],
   "source": [
    "with open('data/demo.txt', mode='r') as f:\n",
    "    lines = []\n",
    "\n",
    "    line = True\n",
    "    while line:\n",
    "        line = f.readline()\n",
    "        if line:\n",
    "            lines.append(line[:-1])\n",
    "\n",
    "print(lines)"
   ]
  },
  {
   "cell_type": "markdown",
   "metadata": {},
   "source": [
    "#### Read from a CSV file using the `csv` module\n",
    "* You don't need this for reading CSV's, but it has some nice simple features\n",
    "* Read a CSV"
   ]
  },
  {
   "cell_type": "code",
   "execution_count": 3,
   "metadata": {},
   "outputs": [],
   "source": [
    "import csv\n",
    "\n",
    "results = []\n",
    "\n",
    "with open('data/Demographic_Statistics_By_Zip_Code.csv', mode='r') as f:\n",
    "    # print(type(f))\n",
    "\n",
    "    lines = csv.reader(f, delimiter=',')\n",
    "\n",
    "    # print(type(lines))\n",
    "\n",
    "    for line in lines:\n",
    "        results.append(line)\n",
    "\n",
    "# print(results[0][0], results[0][1])\n",
    "# print(results[1][0], results[1][1])\n",
    "# print(results[1])"
   ]
  },
  {
   "cell_type": "markdown",
   "metadata": {},
   "source": [
    "#### Write to a CSV file using the `csv` module\n",
    "* You don't need this for reading CSV's, but it has some nice simple features\n",
    "* Read a CSV"
   ]
  },
  {
   "cell_type": "code",
   "execution_count": 4,
   "metadata": {},
   "outputs": [
    {
     "name": "stdout",
     "output_type": "stream",
     "text": [
      "[['JURISDICTION NAME', 'COUNT PARTICIPANTS', 'COUNT FEMALE', 'PERCENT FEMALE', 'COUNT MALE'], ['10001', '44', '22', '0.5', '22'], ['10002', '35', '19', '0.54', '16'], ['10003', '1', '1', '1', '0'], ['10004', '0', '0', '0', '0'], ['10005', '2', '2', '1', '0'], ['10006', '6', '2', '0.33', '4'], ['10007', '1', '0', '0', '1'], ['10009', '2', '0', '0', '2'], ['10010', '0', '0', '0', '0'], ['10011', '3', '2', '0.67', '1'], ['10012', '0', '0', '0', '0'], ['10013', '8', '1', '0.13', '7'], ['10014', '0', '0', '0', '0'], ['10016', '17', '12', '0.71', '5'], ['10017', '0', '0', '0', '0'], ['10018', '3', '2', '0.67', '1'], ['10019', '0', '0', '0', '0'], ['10020', '0', '0', '0', '0'], ['10021', '0', '0', '0', '0'], ['10022', '1', '1', '1', '0'], ['10023', '7', '5', '0.71', '2'], ['10024', '4', '4', '1', '0'], ['10025', '27', '17', '0.63', '10'], ['10026', '0', '0', '0', '0'], ['10027', '7', '4', '0.57', '3'], ['10028', '0', '0', '0', '0'], ['10029', '20', '13', '0.65', '7'], ['10030', '0', '0', '0', '0'], ['10031', '0', '0', '0', '0'], ['10032', '13', '4', '0.31', '9'], ['10033', '0', '0', '0', '0'], ['10034', '0', '0', '0', '0'], ['10035', '0', '0', '0', '0'], ['10036', '2', '2', '1', '0'], ['10037', '0', '0', '0', '0'], ['10038', '16', '11', '0.69', '5'], ['10039', '0', '0', '0', '0'], ['10040', '5', '4', '0.8', '1'], ['10044', '0', '0', '0', '0'], ['10045', '0', '0', '0', '0'], ['10065', '0', '0', '0', '0'], ['10115', '0', '0', '0', '0'], ['10119', '0', '0', '0', '0'], ['10128', '0', '0', '0', '0'], ['10154', '0', '0', '0', '0'], ['10278', '0', '0', '0', '0'], ['10280', '0', '0', '0', '0'], ['10301', '0', '0', '0', '0'], ['10302', '0', '0', '0', '0'], ['10303', '0', '0', '0', '0'], ['10304', '0', '0', '0', '0'], ['10305', '0', '0', '0', '0'], ['10306', '1', '0', '0', '1'], ['10307', '0', '0', '0', '0'], ['10309', '0', '0', '0', '0'], ['10310', '0', '0', '0', '0'], ['10312', '0', '0', '0', '0'], ['10314', '0', '0', '0', '0'], ['10451', '41', '21', '0.51', '20'], ['10452', '17', '12', '0.71', '5'], ['10453', '14', '7', '0.5', '7'], ['10454', '18', '8', '0.44', '10'], ['10455', '27', '17', '0.63', '10'], ['10456', '5', '3', '0.6', '2'], ['10457', '0', '0', '0', '0'], ['10458', '52', '25', '0.48', '27'], ['10459', '7', '5', '0.71', '2'], ['10460', '27', '20', '0.74', '7'], ['10461', '49', '26', '0.53', '23'], ['10462', '3', '2', '0.67', '1'], ['10463', '59', '33', '0.56', '26'], ['10464', '15', '7', '0.47', '8'], ['10465', '21', '17', '0.81', '4'], ['10466', '65', '39', '0.6', '26'], ['10467', '106', '65', '0.61', '41'], ['10468', '81', '46', '0.57', '35'], ['10469', '10', '7', '0.7', '3'], ['10471', '43', '24', '0.56', '19'], ['10472', '0', '0', '0', '0'], ['10473', '0', '0', '0', '0'], ['10474', '0', '0', '0', '0'], ['10475', '20', '12', '0.6', '8'], ['10514', '0', '0', '0', '0'], ['10543', '0', '0', '0', '0'], ['10553', '0', '0', '0', '0'], ['10573', '0', '0', '0', '0'], ['10701', '0', '0', '0', '0'], ['10705', '0', '0', '0', '0'], ['10911', '0', '0', '0', '0'], ['10965', '0', '0', '0', '0'], ['10977', '0', '0', '0', '0'], ['11001', '0', '0', '0', '0'], ['11021', '0', '0', '0', '0'], ['11050', '0', '0', '0', '0'], ['11101', '1', '0', '0', '1'], ['11102', '0', '0', '0', '0'], ['11103', '0', '0', '0', '0'], ['11104', '0', '0', '0', '0'], ['11105', '0', '0', '0', '0'], ['11106', '0', '0', '0', '0']]\n"
     ]
    }
   ],
   "source": [
    "results_to_write = results[0:101]\n",
    "\n",
    "# trim to 4 cols\n",
    "for i,row in enumerate(results_to_write):\n",
    "    results_to_write[i] = row[0:5]\n",
    "\n",
    "print(results_to_write)\n",
    "\n",
    "with open('data/demo_out.csv', mode='w') as f:\n",
    "    writer = csv.writer(f)\n",
    "    writer.writerows(results_to_write)"
   ]
  },
  {
   "cell_type": "markdown",
   "metadata": {},
   "source": [
    "#### Read from a CSV using `pandas` `read_csv`"
   ]
  },
  {
   "cell_type": "code",
   "execution_count": 5,
   "metadata": {},
   "outputs": [
    {
     "name": "stdout",
     "output_type": "stream",
     "text": [
      "Participants in 10001: 44\n"
     ]
    }
   ],
   "source": [
    "import pandas as pd\n",
    "\n",
    "df = pd.read_csv('data/Demographic_Statistics_By_Zip_Code.csv')\n",
    "\n",
    "# print(type(df))\n",
    "\n",
    "# print(df.head())\n",
    "# print(df.columns)\n",
    "# print(df.dtypes)\n",
    "# cols = list(df.columns)\n",
    "# print(df[cols[0]][0:100])\n",
    "\n",
    "print(f\"Participants in { df['JURISDICTION NAME'][0] }: { df['COUNT PARTICIPANTS'][0] }\")"
   ]
  },
  {
   "cell_type": "code",
   "execution_count": null,
   "metadata": {},
   "outputs": [],
   "source": []
  }
 ],
 "metadata": {
  "kernelspec": {
   "display_name": "Python 3",
   "language": "python",
   "name": "python3"
  },
  "language_info": {
   "codemirror_mode": {
    "name": "ipython",
    "version": 3
   },
   "file_extension": ".py",
   "mimetype": "text/x-python",
   "name": "python",
   "nbconvert_exporter": "python",
   "pygments_lexer": "ipython3",
   "version": "3.7.3"
  }
 },
 "nbformat": 4,
 "nbformat_minor": 2
}
