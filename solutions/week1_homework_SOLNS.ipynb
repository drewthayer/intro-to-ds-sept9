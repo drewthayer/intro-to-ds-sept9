{
 "cells": [
  {
   "cell_type": "markdown",
   "metadata": {
    "button": false,
    "new_sheet": false,
    "run_control": {
     "read_only": false
    }
   },
   "source": [
    "# Weekend Homework\n",
    "We covered a lot over these first few days. We have a large enough set of tools, at this point, to start writing functions that actually \"do things.\"\n",
    "\n",
    "I want you to complete as much of this notebook as you can. If you find yourself stuck for more than 10 minutes on any given problem, post the problem and a description of how you're stuck into the Slack channel. Your classmates or I will respond **in a reply within the thread**.\n",
    "\n",
    "There are multiple ways to solve most of these functions. Feel free to solve these in any way you feel comfortable. You may also include multiple solutions for any given problem.\n",
    "\n",
    "## We will be writing functions!\n",
    "This is key to our progress through the course. Almost all of the problems below will have you writing a function. For many of these, we provide you some starting code.\n",
    "\n",
    "Remember to *test your functions*! You can do this with simple `print()` statements within the same cell. The first few functions have these `print` statements written for you.\n",
    "\n",
    "Feel free to work on these within the jupyter notebook, or move them to a separate `.py` file.\n",
    "\n",
    "## NOTE: These are not the only solutions\n",
    "In most cases below, the solution provided is meant to be explanatory. These are not meant to be optimal solutions, nor are they the only way to solve any of these problems."
   ]
  },
  {
   "cell_type": "markdown",
   "metadata": {
    "button": false,
    "new_sheet": false,
    "run_control": {
     "read_only": false
    }
   },
   "source": [
    "<br><br><br>\n",
    "### `return_float()`\n",
    "Write a function called `return_float()` that takes a numeric type and returns the `float` of that number."
   ]
  },
  {
   "cell_type": "code",
   "execution_count": 1,
   "metadata": {
    "button": false,
    "new_sheet": false,
    "run_control": {
     "read_only": false
    }
   },
   "outputs": [
    {
     "name": "stdout",
     "output_type": "stream",
     "text": [
      "89.0\n",
      "0.0\n",
      "978.33\n"
     ]
    }
   ],
   "source": [
    "def return_float(some_num):\n",
    "    return float(some_num)\n",
    "\n",
    "print(return_float(89))\n",
    "print(return_float(False))\n",
    "print(return_float(978.33))\n"
   ]
  },
  {
   "cell_type": "markdown",
   "metadata": {
    "button": false,
    "new_sheet": false,
    "run_control": {
     "read_only": false
    }
   },
   "source": [
    "<br><br><br>\n",
    "### `return_bool()`\n",
    "Write a function called `return_bool()` that takes a numeric type and returns the `bool` value of that number."
   ]
  },
  {
   "cell_type": "code",
   "execution_count": 2,
   "metadata": {
    "button": false,
    "new_sheet": false,
    "run_control": {
     "read_only": false
    }
   },
   "outputs": [
    {
     "name": "stdout",
     "output_type": "stream",
     "text": [
      "True\n",
      "False\n",
      "False\n"
     ]
    }
   ],
   "source": [
    "def return_bool(some_num):\n",
    "    return bool(some_num)\n",
    "\n",
    "print(return_bool(-42))\n",
    "print(return_bool(False))\n",
    "print(return_bool(None))\n"
   ]
  },
  {
   "cell_type": "markdown",
   "metadata": {
    "button": false,
    "new_sheet": false,
    "run_control": {
     "read_only": false
    }
   },
   "source": [
    "<br><br><br>\n",
    "### `return_type()`\n",
    "Write a function called `return_type()` that simply returns the `type` of the data that is passed into it. Use the `str()` function to cast the type to a string."
   ]
  },
  {
   "cell_type": "code",
   "execution_count": 8,
   "metadata": {
    "button": false,
    "new_sheet": false,
    "run_control": {
     "read_only": false
    }
   },
   "outputs": [
    {
     "name": "stdout",
     "output_type": "stream",
     "text": [
      "<class 'bool'>\n",
      "<class 'float'>\n",
      "<class 'str'>\n"
     ]
    }
   ],
   "source": [
    "def return_type(data):\n",
    "    return str(type(data))\n",
    "\n",
    "# write your own function calls to check the outcome\n",
    "print(return_type(True))\n",
    "print(return_type(0.97))\n",
    "print(return_type('giraffe'))\n"
   ]
  },
  {
   "cell_type": "markdown",
   "metadata": {
    "button": false,
    "new_sheet": false,
    "run_control": {
     "read_only": false
    }
   },
   "source": [
    "<br><br><br>\n",
    "### `round_up()`\n",
    "Write a function called `round_up()` that takes a float number and rounds it up to the next digit. This function  should return an integer.\n",
    "\n",
    "For example:\n",
    "```python\n",
    "print(round_up(57.353))\n",
    ">>> 58\n",
    "```"
   ]
  },
  {
   "cell_type": "code",
   "execution_count": 12,
   "metadata": {
    "button": false,
    "new_sheet": false,
    "run_control": {
     "read_only": false
    }
   },
   "outputs": [
    {
     "data": {
      "text/plain": [
       "8"
      ]
     },
     "execution_count": 12,
     "metadata": {},
     "output_type": "execute_result"
    }
   ],
   "source": [
    "def round_up(num):\n",
    "    return int(num) + 1\n",
    "\n",
    "# write your own function calls to check the outcome\n",
    "round_up(7.3)\n"
   ]
  },
  {
   "cell_type": "markdown",
   "metadata": {
    "button": false,
    "new_sheet": false,
    "run_control": {
     "read_only": false
    }
   },
   "source": [
    "<br><br><br>\n",
    "### `square_divisible_by_6()`\n",
    "Write a function called `square_divisible_by_6()` that returns `True` if the square of an `int` passed into it is divisible by 6."
   ]
  },
  {
   "cell_type": "code",
   "execution_count": 17,
   "metadata": {
    "button": false,
    "new_sheet": false,
    "run_control": {
     "read_only": false
    }
   },
   "outputs": [
    {
     "name": "stdout",
     "output_type": "stream",
     "text": [
      "[6, 12, 18, 24, 30, 36, 42, 48, 54, 60, 66, 72, 78, 84, 90, 96, 102, 108, 114, 120, 126, 132, 138, 144, 150, 156, 162, 168, 174, 180, 186, 192, 198, 204, 210, 216, 222, 228, 234, 240, 246, 252, 258, 264, 270, 276, 282, 288, 294, 300, 306, 312, 318, 324, 330, 336, 342, 348, 354, 360, 366, 372, 378, 384, 390, 396, 402, 408, 414, 420, 426, 432, 438, 444, 450, 456, 462, 468, 474, 480, 486, 492, 498, 504, 510, 516, 522, 528, 534, 540, 546, 552, 558, 564, 570, 576, 582, 588, 594, 600, 606, 612, 618, 624, 630, 636, 642, 648, 654, 660, 666, 672, 678, 684, 690, 696, 702, 708, 714, 720, 726, 732, 738, 744, 750, 756, 762, 768, 774, 780, 786, 792, 798, 804, 810, 816, 822, 828, 834, 840, 846, 852, 858, 864, 870, 876, 882, 888, 894, 900, 906, 912, 918, 924, 930, 936, 942, 948, 954, 960, 966, 972, 978, 984, 990, 996]\n"
     ]
    }
   ],
   "source": [
    "def square_divisible_by_6(some_int):\n",
    "    if some_int**2 % 6 == 0:\n",
    "        return True\n",
    "    else:\n",
    "        return False\n",
    "\n",
    "# write your own function calls to check the outcome\n",
    "squares_div_by_6 = []\n",
    "for i in range(1, 1000):\n",
    "    if square_divisible_by_6(i) == True:\n",
    "        squares_div_by_6.append(i)\n",
    "    \n",
    "print(squares_div_by_6)\n",
    "\n",
    "# consider the pattern in this generated list. What redundant\n",
    "# operations have been performed?\n"
   ]
  },
  {
   "cell_type": "markdown",
   "metadata": {
    "button": false,
    "new_sheet": false,
    "run_control": {
     "read_only": false
    }
   },
   "source": [
    "<br><br><br>\n",
    "### `square_divisible_by_n()`\n",
    "Write a function called `square_divisible_by_n()` that returns `True` if the square of an `int` passed into it is divisible by another int."
   ]
  },
  {
   "cell_type": "code",
   "execution_count": 21,
   "metadata": {
    "button": false,
    "new_sheet": false,
    "run_control": {
     "read_only": false
    }
   },
   "outputs": [
    {
     "name": "stdout",
     "output_type": "stream",
     "text": [
      "[7, 14, 21, 28, 35, 42, 49, 56, 63, 70, 77, 84, 91, 98, 105, 112, 119, 126, 133, 140, 147, 154, 161, 168, 175, 182, 189, 196, 203, 210, 217, 224, 231, 238, 245, 252, 259, 266, 273, 280, 287, 294, 301, 308, 315, 322, 329, 336, 343, 350, 357, 364, 371, 378, 385, 392, 399, 406, 413, 420, 427, 434, 441, 448, 455, 462, 469, 476, 483, 490, 497, 504, 511, 518, 525, 532, 539, 546, 553, 560, 567, 574, 581, 588, 595, 602, 609, 616, 623, 630, 637, 644, 651, 658, 665, 672, 679, 686, 693, 700, 707, 714, 721, 728, 735, 742, 749, 756, 763, 770, 777, 784, 791, 798, 805, 812, 819, 826, 833, 840, 847, 854, 861, 868, 875, 882, 889, 896, 903, 910, 917, 924, 931, 938, 945, 952, 959, 966, 973, 980, 987, 994]\n"
     ]
    }
   ],
   "source": [
    "def square_divisible_by_n(some_int, divisor):\n",
    "    if some_int**2 % divisor == 0:\n",
    "        return True\n",
    "    else:\n",
    "        return False\n",
    "\n",
    "squares_div_by_n = []\n",
    "for i in range(1, 1000):\n",
    "    if square_divisible_by_n(i, 7) == True:\n",
    "        squares_div_by_n.append(i)\n",
    "    \n",
    "print(squares_div_by_n)\n",
    "\n",
    "# By plugging in various integer values, we can see that \n",
    "# we can simply check divisibility and that the squaring is\n",
    "# redundant\n"
   ]
  },
  {
   "cell_type": "markdown",
   "metadata": {
    "button": false,
    "new_sheet": false,
    "run_control": {
     "read_only": false
    }
   },
   "source": [
    "<br><br><br>\n",
    "### `calc_fourth_order_polyn()`\n",
    "Write a function called `calc_fourth_order_polyn()` that returns the result of a 4th order polynomial of the form:\n",
    "\n",
    "$$\n",
    "y = Ax^4 + Bx^3 + Cx^2 + Dx + E\n",
    "$$"
   ]
  },
  {
   "cell_type": "code",
   "execution_count": 22,
   "metadata": {
    "button": false,
    "new_sheet": false,
    "run_control": {
     "read_only": false
    }
   },
   "outputs": [
    {
     "name": "stdout",
     "output_type": "stream",
     "text": [
      "179\n"
     ]
    }
   ],
   "source": [
    "def calc_fourth_order_polyn(A, B, C, D, E, x):\n",
    "    return A*x**4 + B*x**3 + C*x**2 + D*x + E\n",
    "\n",
    "\n",
    "print(calc_fourth_order_polyn(1, 2, 3, 4, 5, 3))\n"
   ]
  },
  {
   "cell_type": "markdown",
   "metadata": {
    "button": false,
    "new_sheet": false,
    "run_control": {
     "read_only": false
    }
   },
   "source": [
    "<br><br><br>\n",
    "### `discuss_favorite_number()`\n",
    "Write a function called `discuss_favorite_number()` that asks the user for their favorite number between 0 and 100. Print different messages depending on in which quartile the favorite number falls. Make up your own messages:\n",
    "\n",
    "for example\n",
    "```\n",
    "< 25 : \"I used to think numbers less than the 1st quartile were cool\"\n",
    "> 25, < 50 : \"something else\"\n",
    "...\n",
    "```\n",
    "\n",
    "If you want to get fancy, print \"Number out of range!\" if the favorite number is not between 0 and 100."
   ]
  },
  {
   "cell_type": "code",
   "execution_count": 29,
   "metadata": {
    "button": false,
    "new_sheet": false,
    "run_control": {
     "read_only": false
    }
   },
   "outputs": [
    {
     "name": "stdout",
     "output_type": "stream",
     "text": [
      "Enter your favorite number: 50\n",
      "greater than or equal to 50, less than 75\n"
     ]
    }
   ],
   "source": [
    "def discuss_favorite_number():\n",
    "    num = int(input('Enter your favorite number: '))\n",
    "    # write your code below\n",
    "    if num < 0 or num > 100:\n",
    "        print('Number out of range!')\n",
    "    elif num < 25:\n",
    "        print('less than 25')\n",
    "    elif num < 50:\n",
    "        print('greater than or equal to 25, less than 50')\n",
    "    elif num < 75:\n",
    "        print('greater than or equal to 50, less than 75')\n",
    "    else:\n",
    "        print('greater than or equal to 75, less than or equal to 100')\n",
    "        \n",
    "discuss_favorite_number()\n"
   ]
  },
  {
   "cell_type": "markdown",
   "metadata": {
    "button": false,
    "new_sheet": false,
    "run_control": {
     "read_only": false
    }
   },
   "source": [
    "<br><br><br>\n",
    "### `select_department()`\n",
    "Write a function called `select_department()` that asks the user for the department they want to reach. Return the phone number for each department. Feel free to make these up. `return` the string `Erroneous Choice` if they make a choice not in the list:"
   ]
  },
  {
   "cell_type": "code",
   "execution_count": 31,
   "metadata": {
    "button": false,
    "new_sheet": false,
    "run_control": {
     "read_only": false
    }
   },
   "outputs": [
    {
     "name": "stdout",
     "output_type": "stream",
     "text": [
      "\n",
      "            Select a Department:\n",
      "            (1) Shipping and Receiving\n",
      "            (2) Customer Service\n",
      "            (3) Human Resources\n",
      "            (4) IT\n",
      "            \n",
      "\n",
      "           9\n"
     ]
    },
    {
     "data": {
      "text/plain": [
       "'Erroneous Choice'"
      ]
     },
     "execution_count": 31,
     "metadata": {},
     "output_type": "execute_result"
    }
   ],
   "source": [
    "def select_department():\n",
    "    menu = '''\n",
    "            Select a Department:\n",
    "            (1) Shipping and Receiving\n",
    "            (2) Customer Service\n",
    "            (3) Human Resources\n",
    "            (4) IT\n",
    "            \\n\n",
    "           '''\n",
    "\n",
    "    selection = int(input(menu))\n",
    "    # write your code below\n",
    "    if selection == 1:\n",
    "        return '517-723-2120'\n",
    "    elif selection == 2:\n",
    "        return '586-283-5911'\n",
    "    elif selection == 3:\n",
    "        return '105-328-8484'\n",
    "    elif selection == 4:\n",
    "        return '987-482-3858'\n",
    "    else:\n",
    "        return 'Erroneous Choice'\n",
    "    \n",
    "select_department()\n"
   ]
  },
  {
   "cell_type": "markdown",
   "metadata": {
    "button": false,
    "new_sheet": false,
    "run_control": {
     "read_only": false
    }
   },
   "source": [
    "<br><br><br>\n",
    "### `get_range_from_list()`\n",
    "Write a function called `get_range_from_list` that takes a list and returns the range of the values in that list.\n",
    "\n",
    "for example:\n",
    "```\n",
    "list1 = [1, 4, -6, 39, 23]\n",
    "get_range_from_list(list1)\n",
    ">>> 45\n",
    "```"
   ]
  },
  {
   "cell_type": "code",
   "execution_count": 54,
   "metadata": {
    "button": false,
    "new_sheet": false,
    "run_control": {
     "read_only": false
    }
   },
   "outputs": [
    {
     "data": {
      "text/plain": [
       "45"
      ]
     },
     "execution_count": 54,
     "metadata": {},
     "output_type": "execute_result"
    }
   ],
   "source": [
    "def get_range_from_list(some_list):\n",
    "    return max(list1) - min(list1)\n",
    "\n",
    "list1 = [1, 4, -6, 39, 23]\n",
    "get_range_from_list(list1)\n"
   ]
  },
  {
   "cell_type": "markdown",
   "metadata": {
    "button": false,
    "new_sheet": false,
    "run_control": {
     "read_only": false
    }
   },
   "source": [
    "<br><br><br>\n",
    "### `get_mean_of_list()`\n",
    "Write a function called `get_mean_of_list` that takes a list and returns the mean of the values in that list.\n",
    "\n",
    "for example:\n",
    "```\n",
    "list1 = [1, 4, -6, 39, 23]\n",
    "get_mean_of_list(list1)\n",
    ">>> 12.2\n",
    "```"
   ]
  },
  {
   "cell_type": "code",
   "execution_count": 55,
   "metadata": {},
   "outputs": [
    {
     "data": {
      "text/plain": [
       "12.2"
      ]
     },
     "execution_count": 55,
     "metadata": {},
     "output_type": "execute_result"
    }
   ],
   "source": [
    "def get_mean_of_list(some_list):\n",
    "    return sum(some_list) / len(some_list)\n",
    "    \n",
    "list1 = [1, 4, -6, 39, 23]\n",
    "get_mean_of_list(list1)\n"
   ]
  },
  {
   "cell_type": "markdown",
   "metadata": {
    "button": false,
    "new_sheet": false,
    "run_control": {
     "read_only": false
    }
   },
   "source": [
    "<br><br><br>\n",
    "### `get_median_of_list()`\n",
    "Write a function called `get_median_of_list` that takes a list and returns the median of the values in that list.\n",
    "\n",
    "Make sure you account for the case where the list has an even number of values in it!"
   ]
  },
  {
   "cell_type": "code",
   "execution_count": 63,
   "metadata": {
    "button": false,
    "new_sheet": false,
    "run_control": {
     "read_only": false
    }
   },
   "outputs": [
    {
     "data": {
      "text/plain": [
       "15.0"
      ]
     },
     "execution_count": 63,
     "metadata": {},
     "output_type": "execute_result"
    }
   ],
   "source": [
    "def get_median_of_list(some_list):\n",
    "    sorted_list = sorted(some_list)\n",
    "    \n",
    "    if len(some_list) % 2 == 1:\n",
    "        return some_list[int(len(some_list) / 2)]\n",
    "    else:\n",
    "        return (some_list[int(len(some_list) / 2)-1] \n",
    "                + some_list[(int(len(some_list) / 2))]) / 2\n",
    "    \n",
    "list1 = [1,3,4,6,8,9,21,23,33,45,67] # odd list\n",
    "list2 = [1,3,4,6,8,9,21,23,33,45,67,68] # even list\n",
    "\n",
    "get_median_of_list(list2)\n"
   ]
  },
  {
   "cell_type": "markdown",
   "metadata": {
    "button": false,
    "new_sheet": false,
    "run_control": {
     "read_only": false
    }
   },
   "source": [
    "<br><br><br>\n",
    "### `get_below_median_avg()`\n",
    "Write a function called `get_below_median_avg` that takes a list and returns the median of the values in that list that are below the median. Do not include the median value in your calculation.\n",
    "\n",
    "Make sure you account for the case where the list has an even number of values in it!"
   ]
  },
  {
   "cell_type": "code",
   "execution_count": 67,
   "metadata": {
    "button": false,
    "new_sheet": false,
    "run_control": {
     "read_only": false
    }
   },
   "outputs": [
    {
     "data": {
      "text/plain": [
       "5.0"
      ]
     },
     "execution_count": 67,
     "metadata": {},
     "output_type": "execute_result"
    }
   ],
   "source": [
    "def get_below_median_avg(some_list):\n",
    "    below_median_list = []\n",
    "    median = get_median_of_list(some_list)\n",
    "    \n",
    "    for num in some_list:\n",
    "        if num < median:\n",
    "            below_median_list.append(num)\n",
    "            \n",
    "    return get_median_of_list(below_median_list)\n",
    "\n",
    "list1 = [1,3,4,6,8,9,21,23,33,45,67] # odd list\n",
    "list2 = [1,3,4,6,8,9,21,23,33,45,67,68] # even list\n",
    "\n",
    "get_below_median_avg(list2)\n"
   ]
  },
  {
   "cell_type": "markdown",
   "metadata": {
    "button": false,
    "new_sheet": false,
    "run_control": {
     "read_only": false
    }
   },
   "source": [
    "<br><br><br>\n",
    "### `create_boolean_mask()`\n",
    "Write a function called `create_boolean_mask` that takes a `list` as an argument and returns another list of boolean values indicating whether or not those values are considered `True` or `False` by Python. Do not account for nested lists.\n",
    "\n"
   ]
  },
  {
   "cell_type": "code",
   "execution_count": 68,
   "metadata": {
    "button": false,
    "new_sheet": false,
    "run_control": {
     "read_only": false
    }
   },
   "outputs": [
    {
     "data": {
      "text/plain": [
       "[False, True, False, True, True, True]"
      ]
     },
     "execution_count": 68,
     "metadata": {},
     "output_type": "execute_result"
    }
   ],
   "source": [
    "def create_boolean_mask(some_list):\n",
    "    output = []\n",
    "    \n",
    "    for item in some_list:\n",
    "        output.append(bool(item))\n",
    "    \n",
    "    return output\n",
    "\n",
    "list1 = [None, 1, 0, 365, 42, \"hey\"]\n",
    "\n",
    "create_boolean_mask(list1)\n"
   ]
  },
  {
   "cell_type": "markdown",
   "metadata": {
    "button": false,
    "new_sheet": false,
    "run_control": {
     "read_only": false
    }
   },
   "source": [
    "<br><br><br>\n",
    "### `apply_boolean_mask()`\n",
    "Write a function called `apply_boolean_mask` that takes two lists of the same length: a `list` of values (any type) and another list containing only booleans. Your function should return a new list containing only the items in the values list that correspond to `True` in the boolean list."
   ]
  },
  {
   "cell_type": "code",
   "execution_count": 70,
   "metadata": {
    "button": false,
    "new_sheet": false,
    "run_control": {
     "read_only": false
    }
   },
   "outputs": [
    {
     "data": {
      "text/plain": [
       "[1, 365, 42, 'hey']"
      ]
     },
     "execution_count": 70,
     "metadata": {},
     "output_type": "execute_result"
    }
   ],
   "source": [
    "def apply_boolean_mask(orig, mask):\n",
    "    output = []\n",
    "    \n",
    "    for i, boolean in enumerate(mask):\n",
    "        if boolean:\n",
    "            output.append(orig[i])\n",
    "\n",
    "    return output\n",
    "\n",
    "list1 = [None, 1, 0, 365, 42, \"hey\"]\n",
    "mask = create_boolean_mask(list1)\n",
    "\n",
    "apply_boolean_mask(list1, mask)\n"
   ]
  },
  {
   "cell_type": "markdown",
   "metadata": {
    "button": false,
    "new_sheet": false,
    "run_control": {
     "read_only": false
    }
   },
   "source": [
    "<br><br><br>\n",
    "### `get_differences()`\n",
    "Write a function called `get_differences` that takes two lists of numbers (floats or ints) of the same length. `return` a new list that contains the differences between corresponding indices in the two lists."
   ]
  },
  {
   "cell_type": "code",
   "execution_count": 28,
   "metadata": {
    "button": false,
    "new_sheet": false,
    "run_control": {
     "read_only": false
    }
   },
   "outputs": [
    {
     "data": {
      "text/plain": [
       "[2, 1, -2, 1, 1, -2, -2]"
      ]
     },
     "execution_count": 28,
     "metadata": {},
     "output_type": "execute_result"
    }
   ],
   "source": [
    "def get_differences(list1, list2):\n",
    "    differences = []\n",
    "    for i in range(len(list1)):\n",
    "        differences.append(list1[i] - list2[i])\n",
    "    return differences\n",
    "\n",
    "list1 = [9,3,5,2,3,4,6]\n",
    "list2 = [7,2,7,1,2,6,8]\n",
    "\n",
    "get_differences(list1, list2)\n"
   ]
  },
  {
   "cell_type": "markdown",
   "metadata": {
    "button": false,
    "new_sheet": false,
    "run_control": {
     "read_only": false
    }
   },
   "source": [
    "<br><br><br>\n",
    "### `get_mse()`\n",
    "Write a function called `get_mse` that takes two lists of numbers (floats or ints) of the same length. Calculate the mean squared error between the two lists. This is the sum of all differences between the two lists, squared, and divided by the length of one of the lists.\n",
    "\n",
    "$$\n",
    "MSE(a, b) = \\frac{1}{m}\\sum_{i=1}^m (a - b)^2\n",
    "$$"
   ]
  },
  {
   "cell_type": "code",
   "execution_count": 107,
   "metadata": {
    "button": false,
    "new_sheet": false,
    "run_control": {
     "read_only": false
    }
   },
   "outputs": [
    {
     "data": {
      "text/plain": [
       "7.714285714285714"
      ]
     },
     "execution_count": 107,
     "metadata": {},
     "output_type": "execute_result"
    }
   ],
   "source": [
    "def get_mse(list1, list2):\n",
    "    differences = get_differences(list1, list2)\n",
    "    sq_differences = []\n",
    "    \n",
    "    for num in differences:\n",
    "        sq_differences.append(num**2)\n",
    "    \n",
    "\n",
    "    return sum(sq_differences) / len(sq_differences)\n",
    "\n",
    "list1 = [9,3,5,2,3,4,2]\n",
    "list2 = [7,2,7,0,2,6,8]\n",
    "\n",
    "get_mse(list1, list2)\n"
   ]
  },
  {
   "cell_type": "markdown",
   "metadata": {
    "button": false,
    "new_sheet": false,
    "run_control": {
     "read_only": false
    }
   },
   "source": [
    "<br><br><br>\n",
    "### `get_mae()`\n",
    "Write a function called `get_mae` that takes two lists of numbers (floats or ints) of the same length. Calculate the mean absolute error between the two lists. This is the sum of all absolute valued differences between the two lists, divided by the length of one of the lists.\n",
    "\n",
    "$$\n",
    "MAE(a, b) = \\frac{1}{m}\\sum_{i=1}^m \\left| (a - b) \\right|\n",
    "$$"
   ]
  },
  {
   "cell_type": "code",
   "execution_count": 38,
   "metadata": {
    "button": false,
    "new_sheet": false,
    "run_control": {
     "read_only": false
    }
   },
   "outputs": [
    {
     "data": {
      "text/plain": [
       "2.2857142857142856"
      ]
     },
     "execution_count": 38,
     "metadata": {},
     "output_type": "execute_result"
    }
   ],
   "source": [
    "def abs_value(n):\n",
    "    if n > 0:\n",
    "        return n\n",
    "    else:\n",
    "        return -n\n",
    "\n",
    "def get_mae(list1, list2):\n",
    "    differences = get_differences(list1, list2)\n",
    "    abs_differences = []\n",
    "    \n",
    "    for num in differences:\n",
    "        abs_differences.append(abs_value(num))\n",
    "\n",
    "    return sum(abs_differences) / len(abs_differences)\n",
    "        \n",
    "list1 = [9,3,5,2,3,4,2]\n",
    "list2 = [7,2,7,0,2,6,8]\n",
    "\n",
    "get_mae(list1, list2)\n"
   ]
  },
  {
   "cell_type": "markdown",
   "metadata": {
    "button": false,
    "new_sheet": false,
    "run_control": {
     "read_only": false
    }
   },
   "source": [
    "<br><br><br>\n",
    "### `create_trinary_numbers()`\n",
    "Write a function called `create_trinary_numbers` that returns two lists that are parallel to each other:\n",
    "\n",
    "`list_of_trinary`: in order, string representations of length-3 trinary numbers, represented as strings\n",
    "* `list_of_trinary = ['000', '001', '002', '010', '011', ...]\n",
    "\n",
    "`list_of_base10`: in order, integer representations of the values in `list_of_trinary`\n",
    "\n",
    "hint: to create the string representations, you can use the `.format()` function that appears throughout the lecture notes:\n",
    "\n",
    "```python\n",
    "str_repr = '{}{}{}'.format(0,3,1)\n",
    "```"
   ]
  },
  {
   "cell_type": "code",
   "execution_count": 27,
   "metadata": {
    "button": false,
    "new_sheet": false,
    "run_control": {
     "read_only": false
    }
   },
   "outputs": [
    {
     "name": "stdout",
     "output_type": "stream",
     "text": [
      "0: 000\n",
      "1: 001\n",
      "2: 002\n",
      "3: 010\n",
      "4: 011\n",
      "5: 012\n",
      "6: 020\n",
      "7: 021\n",
      "8: 022\n",
      "9: 100\n",
      "10: 101\n",
      "11: 102\n",
      "12: 110\n",
      "13: 111\n",
      "14: 112\n",
      "15: 120\n",
      "16: 121\n",
      "17: 122\n",
      "18: 200\n",
      "19: 201\n",
      "20: 202\n",
      "21: 210\n",
      "22: 211\n",
      "23: 212\n",
      "24: 220\n",
      "25: 221\n",
      "26: 222\n"
     ]
    }
   ],
   "source": [
    "def create_trinary_numbers():\n",
    "    dec = 0\n",
    "    list_of_base10 = []\n",
    "    list_of_trinary = []\n",
    "    \n",
    "    for i in range(3):\n",
    "        for j in range(3):\n",
    "            for k in range(3):\n",
    "                list_of_trinary.append('{}{}{}'.format(i,j,k))\n",
    "                list_of_base10.append(dec)\n",
    "                dec += 1\n",
    "                \n",
    "    return list_of_base10, list_of_trinary\n",
    "\n",
    "base10, trinary = create_trinary_numbers()\n",
    "\n",
    "for i,num in enumerate(base10):\n",
    "    print(f'{num}: {trinary[i]}')\n",
    "    "
   ]
  },
  {
   "cell_type": "markdown",
   "metadata": {
    "button": false,
    "new_sheet": false,
    "run_control": {
     "read_only": false
    }
   },
   "source": [
    "<br><br><br>\n",
    "### `increment_towards_n(target, starting_point, incr=10)`\n",
    "Write a function called `increment_towards_n` that takes three numbers as arguments. Assume that these numbers will always be positive.\n",
    "* `target` : the number that you want to move the starting_point toward\n",
    "* `starting_point` : the value you want to move toward the target. You may not perform mathematical operations that directly involve `target` and `starting_point`.\n",
    "* `incr` : a multiplier that you can apply to the `starting_point` in order to move it toward `target`. However, within your function, you may only change `increment` by multiplying or dividing it by 10.\n",
    "\n",
    "There are many solutions to this problem. There are solutions that will work for a given range. There are other, more generalizable solutions that should work for a reasonably arbitrary range, including negatives. \n",
    "\n",
    "Note: it is bad practice to modify the names of parameters. For that reason, we provide some starter code for you, where we rename the two parameters that will change."
   ]
  },
  {
   "cell_type": "code",
   "execution_count": 106,
   "metadata": {
    "button": false,
    "new_sheet": false,
    "run_control": {
     "read_only": false
    },
    "scrolled": false
   },
   "outputs": [
    {
     "data": {
      "text/plain": [
       "(26,\n",
       " [186,\n",
       "  372,\n",
       "  744,\n",
       "  818.4,\n",
       "  900.24,\n",
       "  990.264,\n",
       "  1089.2904,\n",
       "  981.2904000000001,\n",
       "  1079.4194400000001,\n",
       "  972.4194400000001,\n",
       "  1069.6613840000002,\n",
       "  963.6613840000002,\n",
       "  1060.0275224000002,\n",
       "  954.0275224000002,\n",
       "  1049.43027464,\n",
       "  945.4302746400001,\n",
       "  1039.9733021040001,\n",
       "  936.9733021040001,\n",
       "  1030.6706323144,\n",
       "  927.6706323144001,\n",
       "  1020.4376955458401,\n",
       "  918.4376955458401,\n",
       "  1010.2814651004242,\n",
       "  909.2814651004242,\n",
       "  1000.2096116104666])"
      ]
     },
     "execution_count": 106,
     "metadata": {},
     "output_type": "execute_result"
    }
   ],
   "source": [
    "# What I have here is a very simple algorithm. \n",
    "# It will only work for a limited domain of \n",
    "# targets and starting points. This is an exercise\n",
    "# in inventing an algorithm to solve a problem. See\n",
    "# how you can improve/expand on the solution below!\n",
    "\n",
    "def increment_towards_n(target, \n",
    "                        starting_point, \n",
    "                        increment=10.0):\n",
    "    estimate = starting_point\n",
    "    increment_ = increment\n",
    "    \n",
    "    # write your code below\n",
    "    num_iters = 1\n",
    "    estimation_values = []\n",
    "    \n",
    "    \n",
    "    while int(estimate) != target:\n",
    "        \n",
    "        if estimate < target:\n",
    "            if target - estimate > estimate:\n",
    "                estimate += estimate\n",
    "            else:\n",
    "                estimate += estimate * (increment_/10/10)\n",
    "            \n",
    "            \n",
    "        else:\n",
    "            if estimate - target > increment_:\n",
    "                estimate -= estimate // increment\n",
    "            else:\n",
    "                estimate -= estimate * (increment/10/10)\n",
    "                \n",
    "        estimation_values.append(estimate)\n",
    "        num_iters += 1\n",
    "\n",
    "        # safety\n",
    "        if num_iters >= 1000:\n",
    "            break\n",
    "            \n",
    "    return num_iters, estimation_values       \n",
    "\n",
    "increment_towards_n(target=1000, starting_point=93)\n"
   ]
  },
  {
   "cell_type": "code",
   "execution_count": null,
   "metadata": {
    "button": false,
    "collapsed": true,
    "new_sheet": false,
    "run_control": {
     "read_only": false
    }
   },
   "outputs": [],
   "source": []
  }
 ],
 "metadata": {
  "kernelspec": {
   "display_name": "Python 3",
   "language": "python",
   "name": "python3"
  },
  "language_info": {
   "codemirror_mode": {
    "name": "ipython",
    "version": 3
   },
   "file_extension": ".py",
   "mimetype": "text/x-python",
   "name": "python",
   "nbconvert_exporter": "python",
   "pygments_lexer": "ipython3",
   "version": "3.6.8"
  }
 },
 "nbformat": 4,
 "nbformat_minor": 2
}
