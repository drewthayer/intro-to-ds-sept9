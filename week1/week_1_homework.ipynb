{
 "cells": [
  {
   "cell_type": "markdown",
   "metadata": {
    "button": false,
    "new_sheet": false,
    "run_control": {
     "read_only": false
    }
   },
   "source": [
    "# Weekend Homework\n",
    "We covered a lot over these first few days. We have a large enough set of tools, at this point, to start writing functions that actually \"do things.\"\n",
    "\n",
    "I want you to complete as much of this notebook as you can. If you find yourself stuck for more than 10 minutes on any given problem, post the problem and a description of how you're stuck into the Slack channel. Your classmates or I will respond **in a reply within the thread**.\n",
    "\n",
    "There are multiple ways to solve most of these functions. Feel free to solve these in any way you feel comfortable. You may also include multiple solutions for any given problem.\n",
    "\n",
    "## We will be writing functions!\n",
    "This is key to our progress through the course. Almost all of the problems below will have you writing a function. For many of these, we provide you some starting code.\n",
    "\n",
    "Remember to *test your functions*! You can do this with simple `print()` statements within the same cell. The first few functions have these `print` statements written for you.\n",
    "\n",
    "Feel free to work on these within the jupyter notebook, or move them to a separate `.py` file."
   ]
  },
  {
   "cell_type": "markdown",
   "metadata": {
    "button": false,
    "new_sheet": false,
    "run_control": {
     "read_only": false
    }
   },
   "source": [
    "<br><br><br>\n",
    "### `return_float()`\n",
    "Write a function called `return_float()` that takes a numeric type and returns the `float` of that number."
   ]
  },
  {
   "cell_type": "code",
   "execution_count": null,
   "metadata": {
    "button": false,
    "collapsed": true,
    "new_sheet": false,
    "run_control": {
     "read_only": false
    }
   },
   "outputs": [],
   "source": [
    "def return_float(some_num):\n",
    "    pass\n",
    "\n",
    "print(return_float(89))\n",
    "print(return_float(False))\n",
    "print(return_float(978.33))"
   ]
  },
  {
   "cell_type": "markdown",
   "metadata": {
    "button": false,
    "new_sheet": false,
    "run_control": {
     "read_only": false
    }
   },
   "source": [
    "<br><br><br>\n",
    "### `return_bool()`\n",
    "Write a function called `return_bool()` that takes a numeric type and returns the `bool` value of that number."
   ]
  },
  {
   "cell_type": "code",
   "execution_count": null,
   "metadata": {
    "button": false,
    "collapsed": true,
    "new_sheet": false,
    "run_control": {
     "read_only": false
    }
   },
   "outputs": [],
   "source": [
    "def return_bool(some_num):\n",
    "    pass\n",
    "\n",
    "print(return_bool(-42))\n",
    "print(return_bool(False))\n",
    "print(return_bool(None))"
   ]
  },
  {
   "cell_type": "markdown",
   "metadata": {
    "button": false,
    "new_sheet": false,
    "run_control": {
     "read_only": false
    }
   },
   "source": [
    "<br><br><br>\n",
    "### `return_type()`\n",
    "Write a function called `return_type()` that simply returns the `type` of the data that is passed into it. Use the `str()` function to cast the type to a string."
   ]
  },
  {
   "cell_type": "code",
   "execution_count": null,
   "metadata": {
    "button": false,
    "collapsed": true,
    "new_sheet": false,
    "run_control": {
     "read_only": false
    }
   },
   "outputs": [],
   "source": [
    "def return_type(data):\n",
    "    pass\n",
    "\n",
    "# write your own function calls to check the outcome"
   ]
  },
  {
   "cell_type": "markdown",
   "metadata": {
    "button": false,
    "new_sheet": false,
    "run_control": {
     "read_only": false
    }
   },
   "source": [
    "<br><br><br>\n",
    "### `round_up()`\n",
    "Write a function called `round_up()` that takes a float number and rounds it up to the next digit. This function  should return an integer.\n",
    "\n",
    "For example:\n",
    "```python\n",
    "print(round_up(57.353))\n",
    ">>> 58\n",
    "```"
   ]
  },
  {
   "cell_type": "code",
   "execution_count": null,
   "metadata": {
    "button": false,
    "collapsed": true,
    "new_sheet": false,
    "run_control": {
     "read_only": false
    }
   },
   "outputs": [],
   "source": [
    "def round_up():\n",
    "    pass\n",
    "\n",
    "# write your own function calls to check the outcome"
   ]
  },
  {
   "cell_type": "markdown",
   "metadata": {
    "button": false,
    "new_sheet": false,
    "run_control": {
     "read_only": false
    }
   },
   "source": [
    "<br><br><br>\n",
    "### `square_divisible_by_6()`\n",
    "Write a function called `square_divisible_by_6()` that returns `True` if the square of an `int` passed into it is divisible by 6."
   ]
  },
  {
   "cell_type": "code",
   "execution_count": null,
   "metadata": {
    "button": false,
    "collapsed": true,
    "new_sheet": false,
    "run_control": {
     "read_only": false
    }
   },
   "outputs": [],
   "source": [
    "def square_divisible_by_6(some_int):\n",
    "    pass\n",
    "\n",
    "# write your own function calls to check the outcome"
   ]
  },
  {
   "cell_type": "markdown",
   "metadata": {
    "button": false,
    "new_sheet": false,
    "run_control": {
     "read_only": false
    }
   },
   "source": [
    "<br><br><br>\n",
    "### `square_divisible_by_n()`\n",
    "Write a function called `square_divisible_by_n()` that returns `True` if the square of an `int` passed into it is divisible by another int."
   ]
  },
  {
   "cell_type": "code",
   "execution_count": null,
   "metadata": {
    "button": false,
    "collapsed": true,
    "new_sheet": false,
    "run_control": {
     "read_only": false
    }
   },
   "outputs": [],
   "source": [
    "def square_divisible_by_n(some_int, divisor):\n",
    "    pass\n",
    "\n"
   ]
  },
  {
   "cell_type": "markdown",
   "metadata": {
    "button": false,
    "new_sheet": false,
    "run_control": {
     "read_only": false
    }
   },
   "source": [
    "<br><br><br>\n",
    "### `calc_fourth_order_polyn()`\n",
    "Write a function called `calc_fourth_order_polyn()` that returns the result of a 4th order polynomial of the form:\n",
    "\n",
    "$$\n",
    "y = Ax^4 + Bx^3 + Cx^2 + Dx + E\n",
    "$$"
   ]
  },
  {
   "cell_type": "code",
   "execution_count": null,
   "metadata": {
    "button": false,
    "collapsed": true,
    "new_sheet": false,
    "run_control": {
     "read_only": false
    }
   },
   "outputs": [],
   "source": [
    "def calc_fourth_order_polyn(A, B, C, D, E, x):\n",
    "    pass\n",
    "\n"
   ]
  },
  {
   "cell_type": "markdown",
   "metadata": {
    "button": false,
    "new_sheet": false,
    "run_control": {
     "read_only": false
    }
   },
   "source": [
    "<br><br><br>\n",
    "### `discuss_favorite_number()`\n",
    "Write a function called `discuss_favorite_number()` that asks the user for their favorite number between 0 and 100. Print different messages depending on in which quartile the favorite number falls. Make up your own messages:\n",
    "\n",
    "for example\n",
    "```\n",
    "< 25 : \"I used to think numbers in the 1st quartile were cool\"\n",
    "> 25, < 50 : \"something else\"\n",
    "...\n",
    "```\n",
    "\n",
    "If you want to get fancy, print \"Number out of range!\" if the favorite number is not between 0 and 100."
   ]
  },
  {
   "cell_type": "code",
   "execution_count": null,
   "metadata": {
    "button": false,
    "collapsed": true,
    "new_sheet": false,
    "run_control": {
     "read_only": false
    }
   },
   "outputs": [],
   "source": [
    "def discuss_favorite_number():\n",
    "    num = int(input('Enter your favorite number: '))\n",
    "    # write your code below"
   ]
  },
  {
   "cell_type": "markdown",
   "metadata": {
    "button": false,
    "new_sheet": false,
    "run_control": {
     "read_only": false
    }
   },
   "source": [
    "<br><br><br>\n",
    "### `select_department()`\n",
    "Write a function called `select_department()` that asks the user for the department they want to reach. Return the phone number for each department. Feel free to make these up. `return` the string `Erroneous Choice` if they make a choice not in the list:"
   ]
  },
  {
   "cell_type": "code",
   "execution_count": null,
   "metadata": {
    "button": false,
    "collapsed": true,
    "new_sheet": false,
    "run_control": {
     "read_only": false
    }
   },
   "outputs": [],
   "source": [
    "def select_department():\n",
    "    menu = '''\n",
    "            Select a Department:\n",
    "            (1) Shipping and Receiving\n",
    "            (2) Customer Service\n",
    "            (3) Human Resources\n",
    "            (4) IT\n",
    "           '''\n",
    "\n",
    "    selection = int(input(menu))\n",
    "    # write your code below\n"
   ]
  },
  {
   "cell_type": "markdown",
   "metadata": {
    "button": false,
    "new_sheet": false,
    "run_control": {
     "read_only": false
    }
   },
   "source": [
    "<br><br><br>\n",
    "### `get_range_from_list()`\n",
    "Write a function called `get_range_from_list` that takes a list and returns the range of the values in that list.\n",
    "\n",
    "for example:\n",
    "```\n",
    "list1 = [1, 4, -6, 39, 23]\n",
    "get_range_from_list(list1)\n",
    ">>> 45\n",
    "```"
   ]
  },
  {
   "cell_type": "code",
   "execution_count": null,
   "metadata": {
    "button": false,
    "collapsed": true,
    "new_sheet": false,
    "run_control": {
     "read_only": false
    }
   },
   "outputs": [],
   "source": [
    "# It's time for you to define and test your own functions"
   ]
  },
  {
   "cell_type": "markdown",
   "metadata": {
    "button": false,
    "new_sheet": false,
    "run_control": {
     "read_only": false
    }
   },
   "source": [
    "<br><br><br>\n",
    "### `get_mean_of_list()`\n",
    "Write a function called `get_mean_of_list` that takes a list and returns the mean of the values in that list.\n",
    "\n",
    "for example:\n",
    "```\n",
    "list1 = [1, 4, -6, 39, 23]\n",
    "get_mean_of_list(list1)\n",
    ">>> 12.2\n",
    "```"
   ]
  },
  {
   "cell_type": "markdown",
   "metadata": {
    "button": false,
    "new_sheet": false,
    "run_control": {
     "read_only": false
    }
   },
   "source": [
    "<br><br><br>\n",
    "### `get_median_of_list()`\n",
    "Write a function called `get_median_of_list` that takes a list and returns the median of the values in that list.\n",
    "\n",
    "Make sure you account for the case where the list has an even number of values in it!"
   ]
  },
  {
   "cell_type": "code",
   "execution_count": null,
   "metadata": {
    "button": false,
    "collapsed": true,
    "new_sheet": false,
    "run_control": {
     "read_only": false
    }
   },
   "outputs": [],
   "source": []
  },
  {
   "cell_type": "markdown",
   "metadata": {
    "button": false,
    "new_sheet": false,
    "run_control": {
     "read_only": false
    }
   },
   "source": [
    "<br><br><br>\n",
    "### `get_below_median_avg()`\n",
    "Write a function called `get_below_median_avg` that takes a list and returns the median of the values in that list that are below the median. Do not include the median value in your calculation.\n",
    "\n",
    "Make sure you account for the case where the list has an even number of values in it!"
   ]
  },
  {
   "cell_type": "code",
   "execution_count": null,
   "metadata": {
    "button": false,
    "collapsed": true,
    "new_sheet": false,
    "run_control": {
     "read_only": false
    }
   },
   "outputs": [],
   "source": []
  },
  {
   "cell_type": "markdown",
   "metadata": {
    "button": false,
    "new_sheet": false,
    "run_control": {
     "read_only": false
    }
   },
   "source": [
    "<br><br><br>\n",
    "### `create_boolean_mask()`\n",
    "Write a function called `create_boolean_mask` that takes a `list` as an argument and returns another list of boolean values indicating whether or not those values are considered `True` or `False` by Python. Do not account for nested lists.\n",
    "\n"
   ]
  },
  {
   "cell_type": "code",
   "execution_count": null,
   "metadata": {
    "button": false,
    "collapsed": true,
    "new_sheet": false,
    "run_control": {
     "read_only": false
    }
   },
   "outputs": [],
   "source": []
  },
  {
   "cell_type": "markdown",
   "metadata": {
    "button": false,
    "new_sheet": false,
    "run_control": {
     "read_only": false
    }
   },
   "source": [
    "<br><br><br>\n",
    "### `apply_boolean_mask()`\n",
    "Write a function called `apply_boolean_mask` that takes two lists of the same length: a `list` of values (any type) and another list containing only booleans. Your function should return a new list containing only the items in the values list that correspond to `True` in the boolean list."
   ]
  },
  {
   "cell_type": "code",
   "execution_count": null,
   "metadata": {
    "button": false,
    "collapsed": true,
    "new_sheet": false,
    "run_control": {
     "read_only": false
    }
   },
   "outputs": [],
   "source": []
  },
  {
   "cell_type": "markdown",
   "metadata": {
    "button": false,
    "new_sheet": false,
    "run_control": {
     "read_only": false
    }
   },
   "source": [
    "<br><br><br>\n",
    "### `get_differences()`\n",
    "Write a function called `get_differences` that takes two lists of numbers (floats or ints) of the same length. `return` a new list that contains the differences between corresponding indices in the two lists."
   ]
  },
  {
   "cell_type": "code",
   "execution_count": null,
   "metadata": {
    "button": false,
    "collapsed": true,
    "new_sheet": false,
    "run_control": {
     "read_only": false
    }
   },
   "outputs": [],
   "source": []
  },
  {
   "cell_type": "markdown",
   "metadata": {
    "button": false,
    "new_sheet": false,
    "run_control": {
     "read_only": false
    }
   },
   "source": [
    "<br><br><br>\n",
    "### `get_mse()`\n",
    "Write a function called `get_mse` that takes two lists of numbers (floats or ints) of the same length. Calculate the mean squared error between the two lists. This is the sum of all differences between the two lists, squared, and divided by the length of one of the lists.\n",
    "\n",
    "$$\n",
    "MSE(a, b) = \\frac{1}{m}\\sum_{i=1}^m (a - b)^2\n",
    "$$"
   ]
  },
  {
   "cell_type": "code",
   "execution_count": null,
   "metadata": {
    "button": false,
    "collapsed": true,
    "new_sheet": false,
    "run_control": {
     "read_only": false
    }
   },
   "outputs": [],
   "source": []
  },
  {
   "cell_type": "markdown",
   "metadata": {
    "button": false,
    "new_sheet": false,
    "run_control": {
     "read_only": false
    }
   },
   "source": [
    "<br><br><br>\n",
    "### `get_mae()`\n",
    "Write a function called `get_mae` that takes two lists of numbers (floats or ints) of the same length. Calculate the mean absolute error between the two lists. This is the sum of all absolute valued differences between the two lists, divided by the length of one of the lists.\n",
    "\n",
    "$$\n",
    "MAE(a, b) = \\frac{1}{m}\\sum_{i=1}^m \\left| (a - b) \\right|\n",
    "$$"
   ]
  },
  {
   "cell_type": "code",
   "execution_count": null,
   "metadata": {
    "button": false,
    "collapsed": true,
    "new_sheet": false,
    "run_control": {
     "read_only": false
    }
   },
   "outputs": [],
   "source": []
  },
  {
   "cell_type": "markdown",
   "metadata": {
    "button": false,
    "new_sheet": false,
    "run_control": {
     "read_only": false
    }
   },
   "source": [
    "<br><br><br>\n",
    "### `create_trinary_numbers()`\n",
    "Write a function called `create_trinary_numbers` that returns two lists that are parallel to each other:\n",
    "\n",
    "`list_of_trinary`: in order, string representations of length-3 trinary numbers, represented as strings\n",
    "* `list_of_trinary = ['000', '001', '002', '010', '011', ...]\n",
    "\n",
    "`list_of_base10`: in order, integer representations of the values in `list_of_trinary`\n",
    "\n",
    "hint: to create the string representations, you can use the `.format()` function that appears throughout the lecture notes:\n",
    "\n",
    "```python\n",
    "str_repr = '{}{}{}'.format(0,3,1)\n",
    "```"
   ]
  },
  {
   "cell_type": "code",
   "execution_count": null,
   "metadata": {
    "button": false,
    "collapsed": true,
    "new_sheet": false,
    "run_control": {
     "read_only": false
    }
   },
   "outputs": [],
   "source": []
  },
  {
   "cell_type": "markdown",
   "metadata": {
    "button": false,
    "new_sheet": false,
    "run_control": {
     "read_only": false
    }
   },
   "source": [
    "<br><br><br>\n",
    "### `increment_towards_n(target, starting_point, incr=10)`\n",
    "Write a function called `increment_towards_n` that takes three numbers as arguments.\n",
    "* `target` : the number that you want to move the starting_point toward\n",
    "* `starting_point` : the value you want to move toward the target. You may not perform mathematical operations that directly involve `target` and `starting_point`.\n",
    "* `incr` : a multiplier that you can apply to the `starting_point` in order to move it toward `target`. However, within your function, you may only change `increment` by multiplying or dividing it by 10.\n",
    "\n",
    "Note: it is bad practice to modify the names of parameters. For that reason, we provide some starter code for you, where we rename the two parameters that will change."
   ]
  },
  {
   "cell_type": "code",
   "execution_count": null,
   "metadata": {
    "button": false,
    "collapsed": true,
    "new_sheet": false,
    "run_control": {
     "read_only": false
    }
   },
   "outputs": [],
   "source": [
    "def increment_towards_n(target, starting_point, increment=10):\n",
    "    starting_point_ = starting_point\n",
    "    increment_ = increment\n",
    "    # write your code below"
   ]
  }
 ],
 "metadata": {
  "kernelspec": {
   "display_name": "Python 3",
   "language": "python",
   "name": "python3"
  },
  "language_info": {
   "codemirror_mode": {
    "name": "ipython",
    "version": 3
   },
   "file_extension": ".py",
   "mimetype": "text/x-python",
   "name": "python",
   "nbconvert_exporter": "python",
   "pygments_lexer": "ipython3",
   "version": "3.7.3"
  }
 },
 "nbformat": 4,
 "nbformat_minor": 2
}
